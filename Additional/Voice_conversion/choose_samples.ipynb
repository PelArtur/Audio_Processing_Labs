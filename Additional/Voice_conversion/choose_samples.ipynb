{
 "cells": [
  {
   "cell_type": "code",
   "execution_count": 70,
   "id": "04133f21",
   "metadata": {},
   "outputs": [],
   "source": [
    "import os\n",
    "import csv\n",
    "import random\n",
    "import shutil"
   ]
  },
  {
   "cell_type": "code",
   "execution_count": 71,
   "id": "9597938d",
   "metadata": {},
   "outputs": [],
   "source": [
    "def choose_n_samples(input_path: str, output_path: str, n: int):\n",
    "    pairs = []\n",
    "\n",
    "    with open(input_path, newline='') as csvfile:\n",
    "        spamreader = csv.reader(csvfile, delimiter=',', quotechar='|')\n",
    "        for row in spamreader:\n",
    "            pairs.append(row)\n",
    "\n",
    "    headers = pairs.pop(0)\n",
    "    for i in range(len(pairs)):\n",
    "        # fullpath = os.path.join(\"LibriSpeech\", pairs[i][0])\n",
    "\n",
    "        # basename = os.path.basename(fullpath)\n",
    "        # splited = fullpath.split(\"/\")[:2]\n",
    "        # audio_path = os.path.join(splited[0], splited[1], \"audio\", basename)\n",
    "        # target_path = os.path.join(splited[0], splited[1], \"features\", basename)[:-4] + \"pt\"\n",
    "\n",
    "        # if os.path.exists(fullpath):\n",
    "        #     shutil.move(fullpath, audio_path)\n",
    "\n",
    "        pairs[i][0] = os.path.join(\"LibriSpeech\", pairs[i][0])\n",
    "        pairs[i][1] = os.path.join(\"LibriSpeech\", pairs[i][1])\n",
    "\n",
    "    # random.shuffle(pairs)\n",
    "\n",
    "    with open(output_path, 'w', newline='') as csvfile:\n",
    "        spamwriter = csv.writer(csvfile, delimiter=',',\n",
    "                                quotechar='|', quoting=csv.QUOTE_MINIMAL)\n",
    "        spamwriter.writerow(headers)\n",
    "        spamwriter.writerows(sorted(pairs[:n]))"
   ]
  },
  {
   "cell_type": "code",
   "execution_count": 72,
   "id": "5a724331",
   "metadata": {},
   "outputs": [],
   "source": [
    "os.makedirs(\"./LibriSpeech/train-clean-100/audio\", exist_ok=True)\n",
    "os.makedirs(\"./LibriSpeech/dev-clean/audio\", exist_ok=True)\n",
    "os.makedirs(\"./LibriSpeech/dev-clean/features\", exist_ok=True)\n",
    "os.makedirs(\"./LibriSpeech/dev-clean/features\", exist_ok=True)"
   ]
  },
  {
   "cell_type": "code",
   "execution_count": 73,
   "id": "c1cef122",
   "metadata": {},
   "outputs": [],
   "source": [
    "choose_n_samples('./data_splits/wavlm-hifigan-train.csv', './data_splits/train.csv', 1500)"
   ]
  },
  {
   "cell_type": "code",
   "execution_count": 74,
   "id": "eeab196a",
   "metadata": {},
   "outputs": [],
   "source": [
    "choose_n_samples('./data_splits/wavlm-hifigan-valid.csv', './data_splits/valid.csv', 300)"
   ]
  }
 ],
 "metadata": {
  "kernelspec": {
   "display_name": "venv",
   "language": "python",
   "name": "python3"
  },
  "language_info": {
   "codemirror_mode": {
    "name": "ipython",
    "version": 3
   },
   "file_extension": ".py",
   "mimetype": "text/x-python",
   "name": "python",
   "nbconvert_exporter": "python",
   "pygments_lexer": "ipython3",
   "version": "3.10.4"
  }
 },
 "nbformat": 4,
 "nbformat_minor": 5
}
