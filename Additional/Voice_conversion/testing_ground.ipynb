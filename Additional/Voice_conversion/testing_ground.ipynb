{
 "cells": [
  {
   "cell_type": "code",
   "execution_count": 1,
   "id": "5ee92b6f",
   "metadata": {},
   "outputs": [],
   "source": [
    "from matcher import KNeighborsVC"
   ]
  },
  {
   "cell_type": "code",
   "execution_count": null,
   "id": "992f8672",
   "metadata": {},
   "outputs": [],
   "source": [
    "knnvc = KNeighborsVC()"
   ]
  }
 ],
 "metadata": {
  "kernelspec": {
   "display_name": "venv",
   "language": "python",
   "name": "python3"
  },
  "language_info": {
   "codemirror_mode": {
    "name": "ipython",
    "version": 3
   },
   "file_extension": ".py",
   "mimetype": "text/x-python",
   "name": "python",
   "nbconvert_exporter": "python",
   "pygments_lexer": "ipython3",
   "version": "3.10.4"
  }
 },
 "nbformat": 4,
 "nbformat_minor": 5
}
